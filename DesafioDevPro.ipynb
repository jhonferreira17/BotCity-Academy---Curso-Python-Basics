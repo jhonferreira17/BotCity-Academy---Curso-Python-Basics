{
  "nbformat": 4,
  "nbformat_minor": 0,
  "metadata": {
    "colab": {
      "provenance": [],
      "authorship_tag": "ABX9TyNuRqstnrxG+kTeKM+Dhdvd",
      "include_colab_link": true
    },
    "kernelspec": {
      "name": "python3",
      "display_name": "Python 3"
    },
    "language_info": {
      "name": "python"
    }
  },
  "cells": [
    {
      "cell_type": "markdown",
      "metadata": {
        "id": "view-in-github",
        "colab_type": "text"
      },
      "source": [
        "<a href=\"https://colab.research.google.com/github/jhonferreira17/BotCity-Academy---Curso-Python-Basics/blob/main/DesafioDevPro.ipynb\" target=\"_parent\"><img src=\"https://colab.research.google.com/assets/colab-badge.svg\" alt=\"Open In Colab\"/></a>"
      ]
    },
    {
      "cell_type": "markdown",
      "source": [
        "# BotCity Academy\n",
        "**Desafio Devpro do Curso | Python Basics - Introdução e Mão na Massa**"
      ],
      "metadata": {
        "id": "U2x75cDsCMSq"
      }
    },
    {
      "cell_type": "markdown",
      "source": [
        "Resolvendo a lista de exercicios da Lista da [Python Brasil](https://exercicios.dunossauro.com/)"
      ],
      "metadata": {
        "id": "9ZfsuslbClxM"
      }
    },
    {
      "cell_type": "markdown",
      "source": [
        "# [Estrutura sequencial](https://exercicios.dunossauro.com/01_estrutura_sequencial/)"
      ],
      "metadata": {
        "id": "QGKWpzHVC7IH"
      }
    },
    {
      "cell_type": "markdown",
      "source": [
        "Exercício 01\n",
        "\n",
        "---\n",
        "\n",
        "\n",
        "Faça um programa que mostre a mensagem \"Alo mundo\" na tela:"
      ],
      "metadata": {
        "id": "DhZI89vZDPq9"
      }
    },
    {
      "cell_type": "code",
      "execution_count": 2,
      "metadata": {
        "colab": {
          "base_uri": "https://localhost:8080/"
        },
        "id": "Uf-NxJ80AcYG",
        "outputId": "e80d3327-b097-4cdc-d812-929375a483d4"
      },
      "outputs": [
        {
          "output_type": "stream",
          "name": "stdout",
          "text": [
            "Hello mundo\n"
          ]
        }
      ],
      "source": [
        "print(\"Hello mundo\")"
      ]
    },
    {
      "cell_type": "markdown",
      "source": [
        "Exercício 02\n",
        "\n",
        "---\n",
        "\n",
        "\n",
        "Faça um programa que peça um número e então mostre a mensagem \"O número informado foi [número]\":"
      ],
      "metadata": {
        "id": "jAcUB73GDiHs"
      }
    },
    {
      "cell_type": "code",
      "source": [
        "numero = input('Digite um numero:')\n",
        "print(f'O numero digitado foi:{numero}')"
      ],
      "metadata": {
        "colab": {
          "base_uri": "https://localhost:8080/"
        },
        "id": "aN_K--qpC6gn",
        "outputId": "90e26027-876c-44c3-9e31-28d3109de359"
      },
      "execution_count": 7,
      "outputs": [
        {
          "output_type": "stream",
          "name": "stdout",
          "text": [
            "Digite um numero:22\n",
            "O numero digitado foi:22\n"
          ]
        }
      ]
    },
    {
      "cell_type": "markdown",
      "source": [
        "Exercício 03\n",
        "\n",
        "---\n",
        "\n",
        "\n",
        "Faça um programa que peça dois números e imprima a soma:"
      ],
      "metadata": {
        "id": "7Nsn5bZdFPLu"
      }
    },
    {
      "cell_type": "code",
      "source": [
        "numero_1 = float(input('digite um numero:'))\n",
        "numero_2 = float(input('digite outro numero'))\n",
        "resultado = float((numero_1) + (numero_2))\n",
        "print(f'A soma dos numeros é:{resultado}')"
      ],
      "metadata": {
        "id": "h10RzLEBFQSR",
        "outputId": "70c695ff-e438-469f-fb03-9d22cefc264f",
        "colab": {
          "base_uri": "https://localhost:8080/"
        }
      },
      "execution_count": 13,
      "outputs": [
        {
          "output_type": "stream",
          "name": "stdout",
          "text": [
            "digite um numero:10\n",
            "digite outro numero10\n",
            "A soma dos numeros é:20.0\n"
          ]
        }
      ]
    },
    {
      "cell_type": "markdown",
      "source": [
        "Exercício 04\n",
        "\n",
        "---\n",
        "\n",
        "\n",
        "Faça um programa que peça as 4 notas bimestrais e mostre a média."
      ],
      "metadata": {
        "id": "p9F1FpUUIOrX"
      }
    },
    {
      "cell_type": "code",
      "source": [
        "nota_1 = float(input('qual a primeira nota:'))\n",
        "nota_2 = float(input('qual a primeira nota:'))\n",
        "nota_3 = float(input('qual a primeira nota:'))\n",
        "nota_4 = float(input('qual a primeira nota:'))\n",
        "media = float(nota_1 + nota_2 + nota_3 + nota_4)/4\n",
        "print(f'A media das notas:{media}')"
      ],
      "metadata": {
        "id": "5tm3t9ABGqdL",
        "outputId": "69387074-90d5-4c5f-ffc2-72f9c0309aa7",
        "colab": {
          "base_uri": "https://localhost:8080/"
        }
      },
      "execution_count": 14,
      "outputs": [
        {
          "output_type": "stream",
          "name": "stdout",
          "text": [
            "qual a primeira nota:10\n",
            "qual a primeira nota:10\n",
            "qual a primeira nota:10\n",
            "qual a primeira nota:10\n",
            "A media das notas:10.0\n"
          ]
        }
      ]
    }
  ]
}